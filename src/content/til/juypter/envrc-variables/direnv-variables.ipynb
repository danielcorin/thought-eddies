{
 "cells": [
  {
   "cell_type": "markdown",
   "metadata": {},
   "source": [
    "---\n",
    "title: \"Accessing direnv environment variables in a Jupyter notebook\"\n",
    "date: \"2024-10-16\"\n",
    "tags:\n",
    "- direnv\n",
    "- jupyter\n",
    "draft: false\n",
    "---\n"
   ]
  },
  {
   "cell_type": "markdown",
   "metadata": {},
   "source": [
    "I use [`direnv`](https://direnv.net/) to manage my shell environment for projects.\n",
    "When using a Jupyter notebook within a project, I realized that the environment variables in my `.envrc` file were not being made available to my notebooks.\n",
    "The following worked for me as a low-effort way to load my environment into the notebook in a way that wouldn't risk secrets being committed to source control, since I gitignore the `.envrc` file.\n",
    "\n",
    "The code below assumes an `.envrc` file exists in the project root, containing\n",
    "\n",
    "```sh\n",
    "export MY_VAR=\"test_val\"\n",
    "```"
   ]
  },
  {
   "cell_type": "markdown",
   "metadata": {},
   "source": [
    "Let's run the example"
   ]
  },
  {
   "cell_type": "code",
   "execution_count": null,
   "metadata": {},
   "outputs": [],
   "source": [
    "%pip install python_dotenv"
   ]
  },
  {
   "cell_type": "code",
   "execution_count": 4,
   "metadata": {},
   "outputs": [
    {
     "name": "stdout",
     "output_type": "stream",
     "text": [
      "value: None\n"
     ]
    }
   ],
   "source": [
    "import os\n",
    "print(f\"value: {os.environ.get(\"MY_VAR\")}\")"
   ]
  },
  {
   "cell_type": "code",
   "execution_count": 5,
   "metadata": {},
   "outputs": [
    {
     "name": "stdout",
     "output_type": "stream",
     "text": [
      "value after dotenv load: test_val\n"
     ]
    }
   ],
   "source": [
    "from dotenv import load_dotenv\n",
    "load_dotenv(\"./.envrc\")\n",
    "print(f\"value after dotenv load: {os.environ.get(\"MY_VAR\")}\")"
   ]
  },
  {
   "cell_type": "markdown",
   "metadata": {},
   "source": [
    "Quick and easy!"
   ]
  }
 ],
 "metadata": {
  "kernelspec": {
   "display_name": ".venv",
   "language": "python",
   "name": "python3"
  },
  "language_info": {
   "codemirror_mode": {
    "name": "ipython",
    "version": 3
   },
   "file_extension": ".py",
   "mimetype": "text/x-python",
   "name": "python",
   "nbconvert_exporter": "python",
   "pygments_lexer": "ipython3",
   "version": "3.12.5"
  }
 },
 "nbformat": 4,
 "nbformat_minor": 2
}
